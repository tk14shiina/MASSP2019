{
  "nbformat": 4,
  "nbformat_minor": 0,
  "metadata": {
    "colab": {
      "name": "GD.ipynb",
      "version": "0.3.2",
      "provenance": []
    },
    "kernelspec": {
      "name": "python3",
      "display_name": "Python 3"
    }
  },
  "cells": [
    {
      "cell_type": "code",
      "metadata": {
        "id": "splEEkXS9KKe",
        "colab_type": "code",
        "colab": {}
      },
      "source": [
        "from __future__ import division, print_function, unicode_literals\n",
        "import numpy as np \n",
        "import matplotlib\n",
        "import matplotlib.pyplot as plt\n",
        "np.random.seed(2)"
      ],
      "execution_count": 0,
      "outputs": []
    },
    {
      "cell_type": "code",
      "metadata": {
        "id": "_-ByxZnF9U6v",
        "colab_type": "code",
        "outputId": "62d69d5e-bf29-427e-c367-84c1e7bb99c1",
        "colab": {
          "base_uri": "https://localhost:8080/",
          "height": 286
        }
      },
      "source": [
        "X = np.random.rand(1000, 1)\n",
        "y = 4 + 3 * X + .2*np.random.randn(1000, 1) # noise added\n",
        "\n",
        "# Building Xbar \n",
        "one = np.ones((X.shape[0],1))\n",
        "Xbar = np.concatenate((one, X), axis = 1)\n",
        "\n",
        "A = np.dot(Xbar.T, Xbar)\n",
        "b = np.dot(Xbar.T, y)\n",
        "w_lr = np.dot(np.linalg.pinv(A), b)\n",
        "print('Solution found by formula: w = ',w_lr.T)\n",
        "\n",
        "# Display result\n",
        "w = w_lr\n",
        "w_0 = w[0][0]\n",
        "w_1 = w[1][0]\n",
        "x0 = np.linspace(0, 1, 2, endpoint=True)\n",
        "y0 = w_0 + w_1*x0\n",
        "\n",
        "# Draw the fitting line \n",
        "plt.plot(X.T, y.T, 'b.')     # data \n",
        "plt.plot(x0, y0, 'y', linewidth = 2)   # the fitting line\n",
        "plt.axis([0, 1, 0, 10])\n",
        "plt.show()"
      ],
      "execution_count": 2,
      "outputs": [
        {
          "output_type": "stream",
          "text": [
            "Solution found by formula: w =  [[4.0071715  2.98225924]]\n"
          ],
          "name": "stdout"
        },
        {
          "output_type": "display_data",
          "data": {
            "image/png": "[encoded data removed]",
            "text/plain": [
              "<Figure size 432x288 with 1 Axes>"
            ]
          },
          "metadata": {
            "tags": []
          }
        }
      ]
    },
    {
      "cell_type": "code",
      "metadata": {
        "id": "J4ngyJl2J3hB",
        "colab_type": "code",
        "colab": {}
      },
      "source": [
        ""
      ],
      "execution_count": 0,
      "outputs": []
    },
    {
      "cell_type": "code",
      "metadata": {
        "id": "fQdRPjBO9YK9",
        "colab_type": "code",
        "colab": {}
      },
      "source": [
        "def grad(w): #tinh dao ham\n",
        "    N = Xbar.shape[0]\n",
        "    return 1/N * Xbar.T.dot(Xbar.dot(w) - y)\n",
        "\n",
        "def cost(w): #gia tri cua ham so\n",
        "    N = Xbar.shape[0]\n",
        "    return .5/N*np.linalg.norm(y - Xbar.dot(w), 2)**2;"
      ],
      "execution_count": 0,
      "outputs": []
    },
    {
      "cell_type": "code",
      "metadata": {
        "id": "2kIevh1d99CW",
        "colab_type": "code",
        "colab": {}
      },
      "source": [
        "#Ham nhieu bien\n",
        "def numerical_grad(w, cost):\n",
        "    eps = 1e-4\n",
        "    g = np.zeros_like(w)\n",
        "    for i in range(len(w)):\n",
        "        w_p = w.copy()\n",
        "        w_n = w.copy()\n",
        "        w_p[i] += eps \n",
        "        w_n[i] -= eps\n",
        "        g[i] = (cost(w_p) - cost(w_n))/(2*eps)\n",
        "    return g "
      ],
      "execution_count": 0,
      "outputs": []
    },
    {
      "cell_type": "code",
      "metadata": {
        "id": "rUTEK1SJJ7KW",
        "colab_type": "code",
        "colab": {
          "base_uri": "https://localhost:8080/",
          "height": 303
        },
        "outputId": "a0fcf3b5-e935-4e4c-97c4-53ce0f4ca468"
      },
      "source": [
        "#X = np.random.rand(1000, 1)\n",
        "#y = 4 + 3 * X + .2*np.random.randn(1000, 1) # noise added\n",
        "\n",
        "# Building Xbar \n",
        "#one = np.ones((X.shape[0],1))\n",
        "#Xbar = np.concatenate((one, X), axis = 1)\n",
        "\n",
        "#A = np.dot(Xbar.T, Xbar)\n",
        "#b = np.dot(Xbar.T, y)\n",
        "#w_lr = np.dot(np.linalg.pinv(A), b)\n",
        "#print('Solution found by formula: w = ',w_lr.T)\n",
        "\n",
        "#Linear Regresssion\n",
        "def myGD(w_init, grad, eta):\n",
        "    w = [w_init]\n",
        "    for it in range(100):\n",
        "        w_new = w[-1] - eta*grad(w[-1])\n",
        "        if np.linalg.norm(grad(w_new))/len(w_new) < 1e-3: #so sanh\n",
        "            break \n",
        "        w.append(w_new)\n",
        "    return (w, it) \n",
        "\n",
        "w_init = np.array([[2], [1]])\n",
        "(w1, it1) = myGD(w_init, grad, 1)\n",
        "print('Solution found by GD: w = ', w1[-1].T, ',\\nafter %d iterations.' %(it1+1))\n",
        "\n",
        "# Draw the fitting line \n",
        "plt.plot(X.T, y.T, 'b.')     # data \n",
        "plt.plot(x0, y0, 'y', linewidth = 2)   # the fitting line\n",
        "plt.axis([0, 1, 0, 10])\n",
        "plt.show()"
      ],
      "execution_count": 11,
      "outputs": [
        {
          "output_type": "stream",
          "text": [
            "Solution found by GD: w =  [[4.01339145 2.97517034]] ,\n",
            "after 49 iterations.\n"
          ],
          "name": "stdout"
        },
        {
          "output_type": "display_data",
          "data": {
            "image/png": "[encoded data removed]",
            "text/plain": [
              "<Figure size 432x288 with 1 Axes>"
            ]
          },
          "metadata": {
            "tags": []
          }
        }
      ]
    }
  ]
}