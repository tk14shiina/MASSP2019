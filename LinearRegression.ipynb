{
  "nbformat": 4,
  "nbformat_minor": 0,
  "metadata": {
    "colab": {
      "name": "LinearRegression.ipynb",
      "version": "0.3.2",
      "provenance": []
    },
    "kernelspec": {
      "name": "python3",
      "display_name": "Python 3"
    }
  },
  "cells": [
    {
      "cell_type": "code",
      "metadata": {
        "id": "JCYlWAS4VdUJ",
        "colab_type": "code",
        "colab": {}
      },
      "source": [
        "import numpy as np \n",
        "import matplotlib.pyplot as plt"
      ],
      "execution_count": 0,
      "outputs": []
    },
    {
      "cell_type": "code",
      "metadata": {
        "id": "5JHY4c91VjHJ",
        "colab_type": "code",
        "outputId": "af461933-9b20-42b8-ddca-520fdc8c152e",
        "colab": {
          "base_uri": "https://localhost:8080/",
          "height": 283
        }
      },
      "source": [
        "# height (cm)\n",
        "X = np.array([[147, 150, 153, 158, 163, 165, 168, 170, 173, 175, 178, 180, 183]]).T\n",
        "# weight (kg)\n",
        "y = np.array([[ 49, 50, 51,  54, 58, 59, 60, 62, 63, 64, 66, 67, 68]]).T\n",
        "# Visualize data \n",
        "plt.plot(X, y, 'ro')\n",
        "plt.axis([140, 190, 45, 75])\n",
        "plt.xlabel('Height (cm)')\n",
        "plt.ylabel('Weight (kg)')\n",
        "plt.show()"
      ],
      "execution_count": 0,
      "outputs": [
        {
          "output_type": "display_data",
          "data": {
            "image/png": "[encoded data removed]",
            "text/plain": [
              "<Figure size 432x288 with 1 Axes>"
            ]
          },
          "metadata": {
            "tags": []
          }
        }
      ]
    },
    {
      "cell_type": "code",
      "metadata": {
        "id": "WU4BlCETVps_",
        "colab_type": "code",
        "outputId": "361d39d3-3a5b-4c2b-ae02-e76c880da3ca",
        "colab": {
          "base_uri": "https://localhost:8080/",
          "height": 317
        }
      },
      "source": [
        "# Building Xbar \n",
        "one = np.ones((X.shape[0], 1))\n",
        "Xbar = np.concatenate((one, X), axis = 1)\n",
        "\n",
        "# Calculating weights of the fitting line \n",
        "A = np.dot(Xbar.T, Xbar)\n",
        "b = np.dot(Xbar.T, y)\n",
        "w = np.dot(np.linalg.pinv(A), b)\n",
        "print (\"w = \", w)\n",
        "# Preparing the fitting line \n",
        "w_0 = w[0][0]\n",
        "w_1 = w[1][0]\n",
        "x0 = np.linspace(145, 185, 2, endpoint=True)\n",
        "y0 = w_0 + w_1*x0\n",
        "\n",
        "# Drawing the fitting line \n",
        "plt.plot(X.T, y.T, 'ro')     # data \n",
        "plt.plot(x0, y0)               # the fitting line\n",
        "plt.axis([140, 190, 45, 75])\n",
        "plt.xlabel('Height (cm)')\n",
        "plt.ylabel('Weight (kg)')\n",
        "plt.show()"
      ],
      "execution_count": 0,
      "outputs": [
        {
          "output_type": "stream",
          "text": [
            "w =  [[-33.73541021]\n",
            " [  0.55920496]]\n"
          ],
          "name": "stdout"
        },
        {
          "output_type": "display_data",
          "data": {
            "image/png": "[encoded data removed]",
            "text/plain": [
              "<Figure size 432x288 with 1 Axes>"
            ]
          },
          "metadata": {
            "tags": []
          }
        }
      ]
    },
    {
      "cell_type": "code",
      "metadata": {
        "id": "ASeskw6wWOPy",
        "colab_type": "code",
        "outputId": "a968f388-6e16-4b83-b41c-38e4fad8b971",
        "colab": {
          "base_uri": "https://localhost:8080/",
          "height": 51
        }
      },
      "source": [
        "y1 = w_1*155 + w_0\n",
        "y2 = w_1*160 + w_0\n",
        "\n",
        "print (u\"Dự đoán cân nặng của người có chiều cao 155 cm: %.2f (kg), số liệu thật: 52 (kg)\"  %(y1) )\n",
        "print (u\"Dự đoán cân nặng của người có chiều cao 160 cm: %.2f (kg), số liệu thật: 56 (kg)\"  %(y2))"
      ],
      "execution_count": 0,
      "outputs": [
        {
          "output_type": "stream",
          "text": [
            "Dự đoán cân nặng của người có chiều cao 155 cm: 52.94 (kg), số liệu thật: 52 (kg)\n",
            "Dự đoán cân nặng của người có chiều cao 160 cm: 55.74 (kg), số liệu thật: 56 (kg)\n"
          ],
          "name": "stdout"
        }
      ]
    },
    {
      "cell_type": "code",
      "metadata": {
        "id": "g4Tzf7-MWZJo",
        "colab_type": "code",
        "outputId": "00f36026-60dc-4d93-96fd-8f2b8dddff95",
        "colab": {
          "base_uri": "https://localhost:8080/",
          "height": 51
        }
      },
      "source": [
        "from sklearn import datasets, linear_model\n",
        "\n",
        "# fit the model by Linear Regression\n",
        "regr = linear_model.LinearRegression(fit_intercept=False) # fit_intercept = False for calculating the bias\n",
        "regr.fit(Xbar, y)\n",
        "\n",
        "# Compare two results\n",
        "print (u\"Nghiệm tìm được bằng scikit-learn  : \", regr.coef_ )\n",
        "print (u\"Nghiệm tìm được từ phương trình (5): \", w.T)"
      ],
      "execution_count": 0,
      "outputs": [
        {
          "output_type": "stream",
          "text": [
            "Nghiệm tìm được bằng scikit-learn  :  [[-33.73541021   0.55920496]]\n",
            "Nghiệm tìm được từ phương trình (5):  [[-33.73541021   0.55920496]]\n"
          ],
          "name": "stdout"
        }
      ]
    }
  ]
}